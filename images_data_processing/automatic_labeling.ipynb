{
 "cells": [
  {
   "cell_type": "code",
   "execution_count": null,
   "metadata": {
    "id": "d8Oo-Y00erE8"
   },
   "outputs": [],
   "source": [
    "import time\n",
    "from tqdm import tqdm\n",
    "import pandas as pd\n",
    "import timeit #Для проверки времени работы программы\n",
    "from multiprocessing.dummy import Pool\n",
    "from PIL import Image\n",
    "import matplotlib.pyplot as plt\n",
    "import collections\n",
    "import os\n",
    "import ast\n",
    "from pandas.core.common import flatten\n",
    "from more_itertools import sliced\n",
    "import numpy as np\n",
    "import urllib.request"
   ]
  },
  {
   "cell_type": "code",
   "execution_count": null,
   "metadata": {
    "colab": {
     "base_uri": "https://localhost:8080/"
    },
    "id": "B2JxbnPV1hlb",
    "outputId": "0295c40b-7f0d-4da5-f0ca-556fda4217af"
   },
   "outputs": [
    {
     "name": "stdout",
     "output_type": "stream",
     "text": [
      "Mounted at /content/drive/\n"
     ]
    }
   ],
   "source": [
    "from google.colab import drive\n",
    "drive.mount('/content/drive/')"
   ]
  },
  {
   "cell_type": "markdown",
   "metadata": {
    "id": "QLHoevLeerE9"
   },
   "source": [
    "# All posts labeling\n",
    "\n",
    "After we manually marked up users images merges from different parts of their profile, we created `labeled_merges_upd.csv` file with the user_ids and labels.\n",
    "\n",
    "File `posts_for_merge.csv` is a main file, where all posts with images urls are presented (it was prepared in `selected_merges_creation.ipynb` notebook).\n",
    "\n",
    "This notebook contains code with the automatic posts labeling, based on the manually retrieved category labels for selected user image merges."
   ]
  },
  {
   "cell_type": "code",
   "execution_count": null,
   "metadata": {
    "id": "yYOb94xX142D"
   },
   "outputs": [],
   "source": [
    "merges_with_labeling = pd.read_csv('labeled_merges_upd.csv', sep=';')\n",
    "posts_for_labeling = pd.read_csv('posts_for_merge.csv')"
   ]
  },
  {
   "cell_type": "code",
   "execution_count": null,
   "metadata": {
    "id": "u179GoNt2p3p"
   },
   "outputs": [],
   "source": [
    "# Add user id column to the dataframe\n",
    "merges_with_labeling['user_id'] = [int(x.split('_')[0]) for x in merges_with_labeling['merge_name'].values]\n",
    "merges_with_labeling['merge_id'] = [int(x.split('merge')[1].split('.')[0]) - 1 for x in merges_with_labeling['merge_name'].values]"
   ]
  },
  {
   "cell_type": "markdown",
   "metadata": {
    "id": "99q9YUXZ4YDA"
   },
   "source": [
    "In the `labeled_merges_upd` dataset, there are three labels for each user's photo merges: \n",
    "* for the first merge from the downloaded period\n",
    "* for the central merge from the period\n",
    "* for the last merge. \n",
    "\n",
    "This is done in order to track whether the quality of content in the user's profile has changed during the selected download period.\n",
    "\n",
    "If two consecutive labels for one user are the same, we will assume that the quality of this user's content did not change during this period, and all other photo merges between them will also be assigned this label."
   ]
  },
  {
   "cell_type": "code",
   "execution_count": null,
   "metadata": {
    "id": "5oxDpgCj3kiC"
   },
   "outputs": [],
   "source": [
    "# Labels assignment for the other photo merges according to the hypothesis above\n",
    "def get_user_df(user_id):\n",
    "    return posts_for_labeling[posts_for_labeling['id'] == user_id].reset_index(drop=True)\n",
    "\n",
    "def get_labels_for_user(user_id):\n",
    "    return merges_with_labeling[merges_with_labeling['user_id'] == user_id]['lbl'].values, merges_with_labeling[merges_with_labeling['user_id'] == user_id]['merge_id'].values\n",
    "\n",
    "def create_merges(user_id, lbls_lst, merge_id_start=0, merge_id_end=2, only_borders=False):\n",
    "    user_names = []\n",
    "    merge_names = []\n",
    "    images_to_merge = []\n",
    "    merge_labels = []\n",
    "\n",
    "    user_df = get_user_df(user_id)\n",
    "    labeled_merges_ids = [0, int((len(user_df) - 9) // 2), len(user_df) - 9]\n",
    "\n",
    "    post_id_start = labeled_merges_ids[merge_id_start] # post_id_start included\n",
    "    post_id_end = labeled_merges_ids[merge_id_end] + 1 # post_id_end included\n",
    "\n",
    "    if only_borders:\n",
    "        for lbl_id in range(3):\n",
    "            start_id = labeled_merges_ids[lbl_id]\n",
    "            user_imgs_to_merge = []\n",
    "            for i in range(9):\n",
    "                user_imgs_to_merge.append(user_df.im_url[start_id + i])\n",
    "            merge_labels.append(lbls_lst[lbl_id])\n",
    "            images_to_merge.append(user_imgs_to_merge)\n",
    "            merge_names.append(str(user_id) + '_merge' + str(start_id + 1))\n",
    "            user_names.append(user_id)\n",
    "\n",
    "        return merge_labels, merge_names, images_to_merge, user_names\n",
    "    \n",
    "    for start_id in range(post_id_start, post_id_end):\n",
    "        # Shift on one photo\n",
    "        user_imgs_to_merge = []\n",
    "        # Create photo merge\n",
    "        for i in range(9):\n",
    "            user_imgs_to_merge.append(user_df.im_url[start_id + i])\n",
    "        # Append created merge (as a set of 9 links to the images in this merge) \n",
    "        # to the all merges list for given user\n",
    "        images_to_merge.append(user_imgs_to_merge)\n",
    "        # Append merge name for created merge\n",
    "        merge_names.append(str(user_id) + '_merge' + str(start_id + 1))\n",
    "        user_names.append(user_id)\n",
    "        merge_labels.append(lbls_lst[0])\n",
    "    return merge_labels, merge_names, images_to_merge, user_names\n",
    "\n",
    "def create_labeled_merges(user_ids):\n",
    "    all_users_ids = []\n",
    "    all_merges_imgs = []\n",
    "    all_merges_names = []\n",
    "    all_merges_labels = []\n",
    "\n",
    "    for user_id in user_ids:\n",
    "        merge_names = []\n",
    "        merges_imgs = []\n",
    "        users_ids = []\n",
    "        merge_labels = []\n",
    "\n",
    "        lbl_vals, merges_ids = get_labels_for_user(user_id)\n",
    "        if (len(lbl_vals) == 2) and (merges_ids[1] - merges_ids[0] == 1) and (lbl_vals[0] == lbl_vals[1]):\n",
    "            merge_labels, merge_names, merges_imgs, users_ids = create_merges(user_id, [lbl_vals[0]], merges_ids[0], merges_ids[1])\n",
    "\n",
    "        if len(lbl_vals) == 3:\n",
    "            if (lbl_vals[0] == lbl_vals[1]) and (lbl_vals[1] == lbl_vals[2]):\n",
    "                merge_labels, merge_names, merges_imgs, users_ids = create_merges(user_id, [lbl_vals[0]], 0, 2)\n",
    "            elif lbl_vals[0] == lbl_vals[1]:\n",
    "                merge_labels, merge_names, merges_imgs, users_ids = create_merges(user_id, [lbl_vals[0]], 0, 1)\n",
    "            elif lbl_vals[1] == lbl_vals[2]:\n",
    "                merge_labels, merge_names, merges_imgs, users_ids = create_merges(user_id, [lbl_vals[1]], 1, 2)\n",
    "            else:\n",
    "                merge_labels, merge_names, merges_imgs, users_ids = create_merges(user_id, [lbl_vals[0], lbl_vals[1], lbl_vals[2]], 0, 2, only_borders=True)\n",
    "    \n",
    "        all_users_ids.extend(users_ids)\n",
    "        all_merges_imgs.extend(merges_imgs)\n",
    "        all_merges_names.extend(merge_names)\n",
    "        all_merges_labels.extend(merge_labels)\n",
    "\n",
    "    return all_merges_labels, all_merges_names, all_merges_imgs, all_users_ids"
   ]
  },
  {
   "cell_type": "code",
   "execution_count": null,
   "metadata": {
    "id": "NNkNzUZs6e3_"
   },
   "outputs": [],
   "source": [
    "all_merges_labels, all_merges_names, all_merges_imgs, all_users_ids = create_labeled_merges(list(set(merges_with_labeling['user_id'].values)))"
   ]
  },
  {
   "cell_type": "code",
   "execution_count": null,
   "metadata": {
    "id": "-M0_XR6oL--N"
   },
   "outputs": [],
   "source": [
    "all_merges_dict = {'merge_name':all_merges_names, 'merge_lbl':all_merges_labels, 'user_id':all_users_ids, 'images':all_merges_imgs}\n",
    "all_merges_df = pd.DataFrame.from_dict(all_merges_dict)"
   ]
  },
  {
   "cell_type": "code",
   "execution_count": null,
   "metadata": {
    "id": "0WXlSNYGOAcB"
   },
   "outputs": [],
   "source": [
    "# save labeled lists for images uploading to csv file\n",
    "all_merges_df.to_csv('all_labeled_merges.csv')"
   ]
  }
 ],
 "metadata": {
  "colab": {
   "collapsed_sections": [],
   "name": "automatic_labeling.ipynb",
   "provenance": [],
   "toc_visible": true
  },
  "hide_input": false,
  "kernelspec": {
   "display_name": "Python 3",
   "language": "python",
   "name": "python3"
  },
  "language_info": {
   "codemirror_mode": {
    "name": "ipython",
    "version": 3
   },
   "file_extension": ".py",
   "mimetype": "text/x-python",
   "name": "python",
   "nbconvert_exporter": "python",
   "pygments_lexer": "ipython3",
   "version": "3.7.4"
  },
  "latex_envs": {
   "LaTeX_envs_menu_present": true,
   "autoclose": false,
   "autocomplete": true,
   "bibliofile": "biblio.bib",
   "cite_by": "apalike",
   "current_citInitial": 1,
   "eqLabelWithNumbers": true,
   "eqNumInitial": 1,
   "hotkeys": {
    "equation": "Ctrl-E",
    "itemize": "Ctrl-I"
   },
   "labels_anchors": false,
   "latex_user_defs": false,
   "report_style_numbering": false,
   "user_envs_cfg": false
  },
  "nbTranslate": {
   "displayLangs": [
    "*"
   ],
   "hotkey": "alt-t",
   "langInMainMenu": true,
   "sourceLang": "en",
   "targetLang": "fr",
   "useGoogleTranslate": true
  }
 },
 "nbformat": 4,
 "nbformat_minor": 1
}
